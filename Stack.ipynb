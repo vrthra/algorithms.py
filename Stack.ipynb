{
 "cells": [
  {
   "cell_type": "markdown",
   "metadata": {},
   "source": [
    "#### Stack"
   ]
  },
  {
   "cell_type": "code",
   "execution_count": 69,
   "metadata": {
    "code_folding": [
     1,
     9,
     24,
     28,
     32,
     37,
     40,
     64
    ],
    "collapsed": false
   },
   "outputs": [
    {
     "data": {
      "text/plain": [
       "TestResults(failed=0, attempted=22)"
      ]
     },
     "execution_count": 69,
     "metadata": {},
     "output_type": "execute_result"
    }
   ],
   "source": [
    "import doctest\n",
    "class IStack:\n",
    "    def push(self,item):\n",
    "        pass\n",
    "    def pop(self):\n",
    "        pass\n",
    "    def isEmpty(self):\n",
    "        pass\n",
    "    \n",
    "class LStack(IStack):\n",
    "    \"\"\"\n",
    "    >>> s = LStack(4)\n",
    "    >>> s.isEmpty()\n",
    "    True\n",
    "    >>> s.push(1)\n",
    "    >>> s.isEmpty()\n",
    "    False\n",
    "    >>> s.pop()\n",
    "    1\n",
    "    >>> s.pop()\n",
    "    Traceback (most recent call last):\n",
    "    ...\n",
    "    ValueError: Elements < 4\n",
    "    \"\"\"\n",
    "    def __init__(self, elts=100):\n",
    "        self._elts = elts\n",
    "        self._arr = [None] * self._elts\n",
    "        self._current=-1\n",
    "    def push(self, item):\n",
    "        if self._current == self._elts: raise ValueError('Elements > %s' % self._elts)\n",
    "        self._current += 1\n",
    "        self._arr[self._current] = item\n",
    "    def pop(self):\n",
    "        if self._current < 0: raise ValueError('Elements < %s' % self._elts)\n",
    "        v = self._arr[self._current]\n",
    "        self._current-=1\n",
    "        return v\n",
    "    def isEmpty(self):\n",
    "        return self._current == -1\n",
    "\n",
    "class SStack(IStack):\n",
    "    \"\"\"\n",
    "    >>> s = SStack()\n",
    "    >>> s.isEmpty()\n",
    "    True\n",
    "    >>> s.push(1)\n",
    "    >>> s.isEmpty()\n",
    "    False\n",
    "    >>> s.pop()\n",
    "    1\n",
    "    >>> s.pop()\n",
    "    Traceback (most recent call last):\n",
    "    ...\n",
    "    IndexError: pop from empty list\n",
    "    \"\"\"\n",
    "    def __init__(self):\n",
    "        self._arr = []\n",
    "    def push(self,i):\n",
    "        self._arr.insert(0,i)\n",
    "    def pop(self):\n",
    "        return self._arr.pop(0)\n",
    "    def isEmpty(self):\n",
    "        return len(self._arr) == 0\n",
    "\n",
    "def parCheck(items):\n",
    "    \"\"\"\n",
    "    >>> parCheck('')\n",
    "    True\n",
    "    >>> parCheck('(')\n",
    "    False\n",
    "    >>> parCheck(')')\n",
    "    False\n",
    "    >>> parCheck('()()')\n",
    "    True\n",
    "    \"\"\"\n",
    "    s = SStack()\n",
    "    x = {'(':')','{':'}','<':'>'}\n",
    "    for i in items:\n",
    "        if i in ['(','<','{']:\n",
    "            s.push(i)\n",
    "        elif i in [')','>','}']:\n",
    "            if s.isEmpty():\n",
    "                return False\n",
    "            v = s.pop()\n",
    "            if x[v] != i:\n",
    "                return False\n",
    "    return s.isEmpty()\n",
    "                   \n",
    "doctest.testmod(verbose=False)"
   ]
  }
 ],
 "metadata": {
  "kernelspec": {
   "display_name": "Python 3",
   "language": "python",
   "name": "python3"
  },
  "language_info": {
   "codemirror_mode": {
    "name": "ipython",
    "version": 3
   },
   "file_extension": ".py",
   "mimetype": "text/x-python",
   "name": "python",
   "nbconvert_exporter": "python",
   "pygments_lexer": "ipython3",
   "version": "3.5.1"
  },
  "latex_envs": {
   "bibliofile": "biblio.bib",
   "cite_by": "apalike",
   "current_citInitial": 1,
   "eqLabelWithNumbers": true,
   "eqNumInitial": 0
  }
 },
 "nbformat": 4,
 "nbformat_minor": 0
}
