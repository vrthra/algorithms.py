{
 "cells": [
  {
   "cell_type": "markdown",
   "metadata": {},
   "source": [
    "#### Precedence Parser"
   ]
  },
  {
   "cell_type": "code",
   "execution_count": 31,
   "metadata": {
    "collapsed": false
   },
   "outputs": [
    {
     "data": {
      "text/plain": [
       "TestResults(failed=0, attempted=7)"
      ]
     },
     "execution_count": 31,
     "metadata": {},
     "output_type": "execute_result"
    }
   ],
   "source": [
    "import doctest\n",
    "\n",
    "def pparse(lst):\n",
    "    \"\"\"\n",
    "    >>> pparse('')\n",
    "    ''\n",
    "    >>> pparse('A')\n",
    "    'A'\n",
    "    >>> pparse('A B')\n",
    "    'A B'\n",
    "    >>> pparse('A + B')\n",
    "    'A B +'\n",
    "    >>> pparse('A + B * C')\n",
    "    'A B C * +'\n",
    "    >>> pparse('( A + B ) * C')\n",
    "    'A B + C *'\n",
    "    >>> pparse('( A + B * C ) * D')\n",
    "    'A B C * + D *'\n",
    "    \"\"\"\n",
    "    opStack = list()\n",
    "    output = list()\n",
    "    for i in lst.split():\n",
    "        if i in 'ABCD':\n",
    "            output.append(i)\n",
    "        elif i == '(':\n",
    "            opStack.append(i)\n",
    "        elif i == ')':\n",
    "            while True:\n",
    "                a = opStack.pop()\n",
    "                if a == '(': break\n",
    "                else:\n",
    "                    output.append(a)\n",
    "        elif i in ['*', '+']:\n",
    "            opStack.append(i)\n",
    "        else:\n",
    "            raise ValueError('>%s<' % i)\n",
    "    opStack.reverse()\n",
    "    return ' '.join(output + opStack)\n",
    "    \n",
    "doctest.testmod(verbose=False)\n"
   ]
  }
 ],
 "metadata": {
  "kernelspec": {
   "display_name": "Python 3",
   "language": "python",
   "name": "python3"
  },
  "language_info": {
   "codemirror_mode": {
    "name": "ipython",
    "version": 3
   },
   "file_extension": ".py",
   "mimetype": "text/x-python",
   "name": "python",
   "nbconvert_exporter": "python",
   "pygments_lexer": "ipython3",
   "version": "3.5.1"
  },
  "latex_envs": {
   "bibliofile": "biblio.bib",
   "cite_by": "apalike",
   "current_citInitial": 1,
   "eqLabelWithNumbers": true,
   "eqNumInitial": 0
  }
 },
 "nbformat": 4,
 "nbformat_minor": 0
}
