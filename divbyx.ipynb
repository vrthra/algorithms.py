{
 "cells": [
  {
   "cell_type": "code",
   "execution_count": 29,
   "metadata": {
    "collapsed": false
   },
   "outputs": [
    {
     "data": {
      "text/plain": [
       "TestResults(failed=0, attempted=9)"
      ]
     },
     "execution_count": 29,
     "metadata": {},
     "output_type": "execute_result"
    }
   ],
   "source": [
    "import doctest\n",
    "def divbyx(num, base):\n",
    "    \"\"\"\n",
    "    >>> divbyx(0,2)\n",
    "    [0]\n",
    "    >>> divbyx(1,2)\n",
    "    [1]\n",
    "    >>> divbyx(2,2)\n",
    "    [1, 0]\n",
    "    >>> divbyx(3,2)\n",
    "    [1, 1]\n",
    "    >>> divbyx(6,4)\n",
    "    [1, 2]\n",
    "    \"\"\"\n",
    "    arr = []\n",
    "    while num >= 0:\n",
    "        i = num % base\n",
    "        num = num // base\n",
    "        arr.insert(0,i)\n",
    "        if num == 0:\n",
    "            break\n",
    "    return arr\n",
    "\n",
    "doctest.testmod(verbose=False)"
   ]
  }
 ],
 "metadata": {
  "kernelspec": {
   "display_name": "Python 3",
   "language": "python",
   "name": "python3"
  },
  "language_info": {
   "codemirror_mode": {
    "name": "ipython",
    "version": 3
   },
   "file_extension": ".py",
   "mimetype": "text/x-python",
   "name": "python",
   "nbconvert_exporter": "python",
   "pygments_lexer": "ipython3",
   "version": "3.5.1"
  },
  "latex_envs": {
   "bibliofile": "biblio.bib",
   "cite_by": "apalike",
   "current_citInitial": 1,
   "eqLabelWithNumbers": true,
   "eqNumInitial": 0
  }
 },
 "nbformat": 4,
 "nbformat_minor": 0
}
