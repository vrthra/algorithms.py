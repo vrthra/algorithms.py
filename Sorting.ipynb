{
 "cells": [
  {
   "cell_type": "markdown",
   "metadata": {},
   "source": [
    "###### Sorting"
   ]
  },
  {
   "cell_type": "code",
   "execution_count": 135,
   "metadata": {
    "code_folding": [
     2,
     13,
     22
    ],
    "collapsed": false
   },
   "outputs": [
    {
     "data": {
      "text/plain": [
       "TestResults(failed=0, attempted=14)"
      ]
     },
     "execution_count": 135,
     "metadata": {},
     "output_type": "execute_result"
    }
   ],
   "source": [
    "import doctest\n",
    "\n",
    "def bubblesort(items):\n",
    "    \"\"\"\n",
    "    >>> bubblesort([])\n",
    "    []\n",
    "    >>> bubblesort([1])\n",
    "    [1]\n",
    "    >>> bubblesort([1,2,3,4,5])\n",
    "    [1, 2, 3, 4, 5]\n",
    "    >>> bubblesort([4,5,3,1,2])\n",
    "    [1, 2, 3, 4, 5]\n",
    "    \"\"\"\n",
    "    for i in range(len(items)):\n",
    "        mod = False\n",
    "        for j in range(len(items)-1):\n",
    "            if items[i] < items[j]:\n",
    "                mod = True\n",
    "                items[i], items[j] = items[j], items[i]\n",
    "        if not mod: break\n",
    "    return items\n",
    "\n",
    "def selectionsort(items):\n",
    "    \"\"\"\n",
    "    >>> selectionsort([])\n",
    "    []\n",
    "    >>> selectionsort([1])\n",
    "    [1]\n",
    "    >>> selectionsort([1,2,3,4,5])\n",
    "    [1, 2, 3, 4, 5]\n",
    "    >>> selectionsort([4,5,3,1,2])\n",
    "    [1, 2, 3, 4, 5]\n",
    "    \"\"\"\n",
    "    for k in range(len(items)-1,0,-1):\n",
    "        v,i = max((v,i) for i,v in enumerate(items[:k]))\n",
    "        if items[k] < v:\n",
    "            items[k],items[i] = items[i], items[k]\n",
    "    return items\n",
    "\n",
    "def insertionsort(items):\n",
    "    \"\"\"\n",
    "    >>> insertionsort([])\n",
    "    []\n",
    "    >>> insertionsort([1])\n",
    "    [1]\n",
    "    >>> insertionsort([1,2,3,4,5])\n",
    "    [1, 2, 3, 4, 5]\n",
    "    >>> insertionsort([4,5,3,1,2])\n",
    "    [1, 2, 3, 4, 5]\n",
    "\n",
    "    \"\"\"\n",
    "    def find_the_place(v, till):\n",
    "        \"\"\"\n",
    "        >>> items = [1,2,4]\n",
    "        >>> find_the_place(items, 3, 3)\n",
    "        2\n",
    "        \"\"\"\n",
    "        for i in range(0, till):\n",
    "            if v < items[i]:\n",
    "                return i\n",
    "        return till\n",
    "    def shift_things_from(i, till):\n",
    "        items[i+1:till+1] = items[i:till]\n",
    "\n",
    "    for k in range(1,len(items)):\n",
    "        v = items[k]\n",
    "        i = find_the_place(v, k)\n",
    "        shift_things_from(i, k)\n",
    "        items[i] = v\n",
    "    return items\n",
    "\n",
    "doctest.testmod()\n"
   ]
  }
 ],
 "metadata": {
  "kernelspec": {
   "display_name": "Python 3",
   "language": "python",
   "name": "python3"
  },
  "language_info": {
   "codemirror_mode": {
    "name": "ipython",
    "version": 3
   },
   "file_extension": ".py",
   "mimetype": "text/x-python",
   "name": "python",
   "nbconvert_exporter": "python",
   "pygments_lexer": "ipython3",
   "version": "3.5.1"
  },
  "latex_envs": {
   "bibliofile": "biblio.bib",
   "cite_by": "apalike",
   "current_citInitial": 1,
   "eqLabelWithNumbers": true,
   "eqNumInitial": 0
  }
 },
 "nbformat": 4,
 "nbformat_minor": 0
}
