{
 "cells": [
  {
   "cell_type": "markdown",
   "metadata": {},
   "source": [
    "###### Linked List"
   ]
  },
  {
   "cell_type": "code",
   "execution_count": 23,
   "metadata": {
    "collapsed": false
   },
   "outputs": [
    {
     "data": {
      "text/plain": [
       "TestResults(failed=0, attempted=15)"
      ]
     },
     "execution_count": 23,
     "metadata": {},
     "output_type": "execute_result"
    }
   ],
   "source": [
    "import doctest\n",
    "\n",
    "class Node:\n",
    "    def __init__(self,i):\n",
    "        self.data = i\n",
    "        self.nxt = None\n",
    "    def __repr__(self):\n",
    "        return str(self.data)\n",
    "\n",
    "class MyList:\n",
    "    \"\"\"\n",
    "    >>> l = MyList()\n",
    "    >>> l.isEmpty()\n",
    "    True\n",
    "    >>> l.add(1)\n",
    "    >>> l.isEmpty()\n",
    "    False\n",
    "    >>> l.add(2)\n",
    "    >>> l.add(3)\n",
    "    >>> l.add(4)\n",
    "    >>> l.size()\n",
    "    4\n",
    "    >>> l.search(3).data\n",
    "    3\n",
    "    >>> list(l.remove(3).each())\n",
    "    [4, 2, 1]\n",
    "    >>> list(l.remove(3).each())\n",
    "    [4, 2, 1]\n",
    "    >>> l.append(0)\n",
    "    [4, 2, 1, 0]\n",
    "    >>> l.remove(2)\n",
    "    [4, 1, 0]\n",
    "    >>> l.insert_after(4,3)\n",
    "    [4, 3, 1, 0]\n",
    "    >>> l.insert_before(1,2)\n",
    "    [4, 3, 2, 1, 0]\n",
    "    \"\"\"\n",
    "    def __init__(self):\n",
    "        self._head = None\n",
    "    def __repr__(self):\n",
    "        return str([i for i in self.each()])\n",
    "    \n",
    "    def add(self,item):\n",
    "        node = Node(item)\n",
    "        node.nxt = self._head\n",
    "        self._head = node\n",
    "    def isEmpty(self):\n",
    "        return self._head == None\n",
    "    def each(self):\n",
    "        h = self._head\n",
    "        while h:\n",
    "            n = h.nxt\n",
    "            yield h\n",
    "            h = n\n",
    "    def size(self):\n",
    "        return len(list(self.each()))\n",
    "    def search(self, item):\n",
    "        for i in self.each():\n",
    "            if i.data == item:\n",
    "                return i\n",
    "    def remove(self, item):\n",
    "        h = self._head\n",
    "        if h.data == item:\n",
    "            self._head = h.nxt\n",
    "            return self\n",
    "        while h:\n",
    "            if h.nxt and h.nxt.data == item:\n",
    "                h.nxt = h.nxt.nxt\n",
    "                return self\n",
    "            h = h.nxt\n",
    "        return self\n",
    "    def append(self,item):\n",
    "        v = list(self.each())[-1]        \n",
    "        v.nxt = Node(item)\n",
    "        return self\n",
    "    def insert_after(self, item, value):\n",
    "        v = self.each()\n",
    "        x = next(v)\n",
    "        while x:\n",
    "            if x.data == item:\n",
    "                n = Node(value)\n",
    "                n.nxt = x.nxt\n",
    "                x.nxt = n\n",
    "            x = next(v, None)\n",
    "        return self\n",
    "    def insert_before(self, item, value):\n",
    "        v = self.each()\n",
    "        x = next(v, None)\n",
    "        last = self._head\n",
    "        if self._head.data == item:\n",
    "            self._head = Node(n)\n",
    "            self._head.nxt = last\n",
    "            return self\n",
    "        while x:\n",
    "            if x.data == item:\n",
    "                n = Node(value)\n",
    "                last.nxt = n\n",
    "                n.nxt = x\n",
    "                return self\n",
    "            last = x\n",
    "            x = next(v, None)\n",
    "        return self\n",
    "    \n",
    "doctest.testmod(verbose=False)"
   ]
  }
 ],
 "metadata": {
  "kernelspec": {
   "display_name": "Python 3",
   "language": "python",
   "name": "python3"
  },
  "language_info": {
   "codemirror_mode": {
    "name": "ipython",
    "version": 3
   },
   "file_extension": ".py",
   "mimetype": "text/x-python",
   "name": "python",
   "nbconvert_exporter": "python",
   "pygments_lexer": "ipython3",
   "version": "3.5.1"
  },
  "latex_envs": {
   "bibliofile": "biblio.bib",
   "cite_by": "apalike",
   "current_citInitial": 1,
   "eqLabelWithNumbers": true,
   "eqNumInitial": 0
  }
 },
 "nbformat": 4,
 "nbformat_minor": 0
}
