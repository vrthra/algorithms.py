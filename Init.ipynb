{
 "cells": [
  {
   "cell_type": "markdown",
   "metadata": {
    "button": false,
    "collapsed": true,
    "deletable": true,
    "new_sheet": false,
    "run_control": {
     "read_only": true
    }
   },
   "source": [
    "#### Linear Search"
   ]
  },
  {
   "cell_type": "code",
   "execution_count": 24,
   "metadata": {
    "collapsed": true
   },
   "outputs": [],
   "source": [
    "import doctest"
   ]
  },
  {
   "cell_type": "code",
   "execution_count": 25,
   "metadata": {
    "code_folding": [
     0
    ],
    "collapsed": true
   },
   "outputs": [],
   "source": [
    "def lsearch(item, arr):\n",
    "    \"\"\"\n",
    "    >>> lsearch(1, [])\n",
    "    >>> lsearch(1,[2])\n",
    "    >>> lsearch(1,[1])\n",
    "    0\n",
    "    >>> lsearch(4,[1,2,3,4])\n",
    "    3\n",
    "    \"\"\"\n",
    "    pos = 0\n",
    "    found = 0\n",
    "    while pos < len(arr):\n",
    "        if arr[pos] == item:\n",
    "            return pos\n",
    "        pos += 1\n",
    "    return None\n",
    "    "
   ]
  },
  {
   "cell_type": "markdown",
   "metadata": {},
   "source": [
    "#### Binary Search"
   ]
  },
  {
   "cell_type": "code",
   "execution_count": 26,
   "metadata": {
    "code_folding": [
     0
    ],
    "collapsed": false
   },
   "outputs": [],
   "source": [
    "def bsearch(item, arr):\n",
    "    \"\"\"\n",
    "    >>> bsearch(1, [])\n",
    "    >>> bsearch(1,[2])\n",
    "    >>> bsearch(1,[1])\n",
    "    0\n",
    "    >>> bsearch(4,[1,2,3,4,5])\n",
    "    3\n",
    "    >>> bsearch(4,[1,2,3,5])\n",
    "    \"\"\"\n",
    "    def recurse(first, last):\n",
    "        mid = (first + last)//2\n",
    "        if (first > last): return None\n",
    "        elif arr[mid] > item:\n",
    "            return recurse(first, mid-1)\n",
    "        elif arr[mid] < item:\n",
    "            return recurse(mid+1, last)\n",
    "        else:\n",
    "            return mid\n",
    "    return recurse(0,len(arr)-1)\n",
    "        "
   ]
  },
  {
   "cell_type": "code",
   "execution_count": 27,
   "metadata": {
    "code_folding": [
     0
    ],
    "collapsed": true
   },
   "outputs": [],
   "source": [
    "def bsearch_i(item, arr):\n",
    "    \"\"\"\n",
    "    >>> bsearch_i(1, [])\n",
    "    >>> bsearch_i(1,[2])\n",
    "    >>> bsearch_i(1,[1])\n",
    "    0\n",
    "    >>> bsearch_i(4,[1,2,3,4,5])\n",
    "    3\n",
    "    >>> bsearch_i(4,[1,2,3,5])\n",
    "    \"\"\"\n",
    "    first = 0\n",
    "    last = len(arr) -1\n",
    "    while first <= last:\n",
    "        mid = (first + last)//2\n",
    "        if item < arr[mid]:\n",
    "            last = mid - 1\n",
    "        elif item > arr[mid]:\n",
    "            first = mid + 1\n",
    "        else:\n",
    "            if arr[mid] == item:\n",
    "                return mid\n",
    "            else:\n",
    "                return None\n",
    "    return None\n",
    "        "
   ]
  },
  {
   "cell_type": "code",
   "execution_count": 29,
   "metadata": {
    "collapsed": false
   },
   "outputs": [
    {
     "data": {
      "text/plain": [
       "TestResults(failed=0, attempted=14)"
      ]
     },
     "execution_count": 29,
     "metadata": {},
     "output_type": "execute_result"
    }
   ],
   "source": [
    "doctest.testmod(verbose=False)"
   ]
  }
 ],
 "metadata": {
  "kernelspec": {
   "display_name": "Python 3",
   "language": "python",
   "name": "python3"
  },
  "language_info": {
   "codemirror_mode": {
    "name": "ipython",
    "version": 3
   },
   "file_extension": ".py",
   "mimetype": "text/x-python",
   "name": "python",
   "nbconvert_exporter": "python",
   "pygments_lexer": "ipython3",
   "version": "3.5.1"
  },
  "latex_envs": {
   "bibliofile": "biblio.bib",
   "cite_by": "apalike",
   "current_citInitial": 1,
   "eqLabelWithNumbers": true,
   "eqNumInitial": 0
  }
 },
 "nbformat": 4,
 "nbformat_minor": 0
}
